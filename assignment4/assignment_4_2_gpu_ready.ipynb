{
  "cells": [
    {
      "cell_type": "markdown",
      "metadata": {
        "id": "QRBDdr0SEqpT"
      },
      "source": [
        "# Assignment 4"
      ]
    },
    {
      "cell_type": "markdown",
      "metadata": {
        "id": "8xd57TRzExEr"
      },
      "source": [
        "**Assignment 4: Neural Networks**\n",
        "\n",
        "**Goal**: ​Get familiar with neural networks by implementing them and applying them to image classification.\n",
        "\n",
        "**Please add your shareable Colab link here:** https://colab.research.google.com/drive/1MNrYD7EigNvRATYxrYa_muYIxZJFE11-?usp=sharing"
      ]
    },
    {
      "cell_type": "markdown",
      "metadata": {
        "id": "yHNgWB1iFDu5"
      },
      "source": [
        "In this assignment we are going to learn about neural networks (NNs). The goal is to implement two neural networks: a fully-connected neural network, a convolutional neural network, and analyze their behavior.\n",
        "\n",
        "The considered task is image classification. We consider a dataset of small natural images (see the additional file) with multiple classes. We aim at formulating a model (a neural network) and learning it using the negative log-likelihood function (i.e., the cross-entropy loss) as the objective function, and the stochastic gradient descent as the optimizer.\n",
        "\n",
        "In this assignment, ​**the code must be implemented in PyTorch**."
      ]
    },
    {
      "cell_type": "markdown",
      "metadata": {
        "id": "Jxgc7c--P0GH"
      },
      "source": [
        "## 1 Understanding the problem\n",
        "\n"
      ]
    },
    {
      "cell_type": "markdown",
      "metadata": {
        "id": "oRteDLEPP3eX"
      },
      "source": [
        "The considered problem is about classifying images to $L$ classes. In the first part of the assignment, you are asked get familiar with PyTorch, a deep learning library, and the basics of neural networks, and implement neural-network-based classifiers. For this purpose, we will start with classifying small images (8px x 8px) of handwritten digits to one of 10 classes. The dataset is very small and all experiments could be achieved within a couple of minutes.\n",
        "\n",
        "In the second part, you are asked to implement the whole pipeline for a given dataset by yourself.\n",
        "\n",
        "Please run the code below and spend a while on analyzing the images.\n",
        "\n",
        "If any code line is unclear to you, please read on that in numpy, scipy, matplotlib and PyTorch docs."
      ]
    },
    {
      "cell_type": "code",
      "execution_count": 2,
      "metadata": {
        "id": "g4wCnPRz-MaE",
        "colab": {
          "base_uri": "https://localhost:8080/",
          "height": 0
        },
        "outputId": "c2084f01-2d64-443c-8f3e-966c25ea07ad"
      },
      "outputs": [
        {
          "output_type": "stream",
          "name": "stdout",
          "text": [
            "Using device: cuda\n"
          ]
        }
      ],
      "source": [
        "import os\n",
        "\n",
        "import matplotlib.pyplot as plt\n",
        "import numpy as np\n",
        "import torch\n",
        "import torch.nn as nn\n",
        "import torch.nn.functional as F\n",
        "from sklearn import datasets\n",
        "from sklearn.datasets import load_digits\n",
        "from torch.utils.data import DataLoader, Dataset\n",
        "\n",
        "\n",
        "EPS = 1.0e-7\n",
        "\n",
        "import torch\n",
        "\n",
        "# Use GPU if available\n",
        "device = torch.device(\"cuda\" if torch.cuda.is_available() else \"cpu\")\n",
        "print(\"Using device:\", device)\n"
      ]
    },
    {
      "cell_type": "code",
      "execution_count": 3,
      "metadata": {
        "colab": {
          "base_uri": "https://localhost:8080/",
          "height": 0
        },
        "id": "mRmwbuamRuge",
        "outputId": "093aaca5-7418-47ae-c40b-4f1dc48f39b9"
      },
      "outputs": [
        {
          "output_type": "stream",
          "name": "stdout",
          "text": [
            "Mounted at /content/gdrive\n"
          ]
        }
      ],
      "source": [
        "# IF YOU USE COLAB, THIS IS VERY USEFUL! OTHERWISE, PLEASE REMOVE IT.\n",
        "# mount drive: WE NEED IT FOR SAVING IMAGES!\n",
        "from google.colab import drive\n",
        "\n",
        "drive.mount(\"/content/gdrive\")"
      ]
    },
    {
      "cell_type": "code",
      "execution_count": 4,
      "metadata": {
        "id": "KEiEJE5sRvjc"
      },
      "outputs": [],
      "source": [
        "# IF YOU USE COLAB, THIS IS VERY USEFUL! OTHERWISE, PLEASE REMOVE IT.\n",
        "# PLEASE CHANGE IT TO YOUR OWN GOOGLE DRIVE!\n",
        "results_dir = \"/content/gdrive/My_Drive/Colab Notebooks/TEACHING/\""
      ]
    },
    {
      "cell_type": "code",
      "execution_count": null,
      "metadata": {
        "id": "Xm4e0Utl-30c"
      },
      "outputs": [],
      "source": [
        "# PLEASE DO NOT REMOVE!\n",
        "# This is a class for the dataset of small (8px x 8px) digits.\n",
        "# Please try to understand in details how it works!\n",
        "class Digits(Dataset):\n",
        "    \"\"\"Scikit-Learn Digits dataset.\"\"\"\n",
        "\n",
        "    def __init__(self, mode=\"train\", transforms=None):\n",
        "        digits = load_digits()\n",
        "        if mode == \"train\":\n",
        "            self.data = digits.data[:1000].astype(np.float32)\n",
        "            self.targets = digits.target[:1000]\n",
        "        elif mode == \"val\":\n",
        "            self.data = digits.data[1000:1350].astype(np.float32)\n",
        "            self.targets = digits.target[1000:1350]\n",
        "        else:\n",
        "            self.data = digits.data[1350:].astype(np.float32)\n",
        "            self.targets = digits.target[1350:]\n",
        "\n",
        "        self.transforms = transforms\n",
        "\n",
        "    def __len__(self):\n",
        "        return len(self.data)\n",
        "\n",
        "    def __getitem__(self, idx):\n",
        "        sample_x = self.data[idx]\n",
        "        sample_y = self.targets[idx]\n",
        "        if self.transforms:\n",
        "            sample_x = self.transforms(sample_x)\n",
        "        return (sample_x, sample_y)"
      ]
    },
    {
      "cell_type": "code",
      "execution_count": null,
      "metadata": {
        "colab": {
          "base_uri": "https://localhost:8080/",
          "height": 370
        },
        "id": "bnDz_yGeuOnh",
        "outputId": "85a24180-616b-4a0c-9f74-b1ac4efa25fc"
      },
      "outputs": [
        {
          "data": {
            "image/png": "[encoded data removed]",
            "text/plain": [
              "<Figure size 400x400 with 16 Axes>"
            ]
          },
          "metadata": {},
          "output_type": "display_data"
        }
      ],
      "source": [
        "# PLEASE DO NOT REMOVE\n",
        "# Here, we plot some images (8px x 8px).\n",
        "digits = load_digits()\n",
        "x = digits.data[:16].astype(np.float32)\n",
        "\n",
        "fig_data, axs = plt.subplots(4, 4, figsize=(4, 4))\n",
        "fig_data.tight_layout()\n",
        "\n",
        "for i in range(4):\n",
        "    for j in range(4):\n",
        "        img = np.reshape(x[4 * i + j], (8, 8))\n",
        "        axs[i, j].imshow(img, cmap=\"gray\")\n",
        "        axs[i, j].axis(\"off\")"
      ]
    },
    {
      "cell_type": "markdown",
      "metadata": {
        "id": "wgc_GFOyRBEi"
      },
      "source": [
        "## 2 Neural Networks for Digits (4pt)"
      ]
    },
    {
      "cell_type": "markdown",
      "metadata": {
        "id": "gDVf1vyORGUB"
      },
      "source": [
        "In this assignment, you are asked to implement a neural network (NN) classifier. Please take a look at the class below and fill in the missing parts.\n",
        "\n",
        "NOTE: Please pay attention to the inputs and outputs of each function."
      ]
    },
    {
      "cell_type": "markdown",
      "metadata": {
        "id": "iwuEfxSKpFtD"
      },
      "source": [
        "### 2.1 Neural Network Classifier"
      ]
    },
    {
      "cell_type": "markdown",
      "metadata": {
        "id": "9FThxxdkpKcQ"
      },
      "source": [
        "Below, we have two helper modules (layers) that can be used to reshape and flatten a tensor. They are useful for creating sequentials with convolutional layers."
      ]
    },
    {
      "cell_type": "code",
      "execution_count": 14,
      "metadata": {
        "id": "5AB5Ch63Ak01"
      },
      "outputs": [],
      "source": [
        "# PLEASE DO NOT REMOVE!\n",
        "# Here are two auxiliary functions that can be used for a convolutional NN (CNN).\n",
        "\n",
        "\n",
        "# This module reshapes an input (matrix -> tensor).\n",
        "class Reshape(nn.Module):\n",
        "    def __init__(self, size):\n",
        "        super(Reshape, self).__init__()\n",
        "        self.size = size  # a list\n",
        "\n",
        "    def forward(self, x):\n",
        "        assert x.shape[1] == np.prod(self.size)\n",
        "        return x.view(x.shape[0], *self.size)\n",
        "\n",
        "\n",
        "# This module flattens an input (tensor -> matrix) by blending dimensions\n",
        "# beyond the batch size.\n",
        "class Flatten(nn.Module):\n",
        "    def __init__(self):\n",
        "        super(Flatten, self).__init__()\n",
        "\n",
        "    def forward(self, x):\n",
        "        return x.view(x.shape[0], -1)"
      ]
    },
    {
      "cell_type": "markdown",
      "metadata": {
        "id": "x3i9R3NmpUY3"
      },
      "source": [
        "Below is the main class for a classifier parameterized by a neural network."
      ]
    },
    {
      "cell_type": "code",
      "execution_count": null,
      "metadata": {
        "id": "Vtv_pAkmOrS3"
      },
      "outputs": [],
      "source": [
        "# =========\n",
        "# GRADING:\n",
        "# 0\n",
        "# 0.5 pt if code works but it is explained badly\n",
        "# 1.0 pt if code works and it is explained well\n",
        "# =========\n",
        "# Implement a neural network (NN) classifier.\n",
        "class ClassifierNeuralNet(nn.Module):\n",
        "    def __init__(self, classnet):\n",
        "        super(ClassifierNeuralNet, self).__init__()\n",
        "        # We provide a sequential module with layers and activations\n",
        "        self.classnet = classnet\n",
        "        # The loss function (the negative log-likelihood)\n",
        "        self.nll = nn.NLLLoss(reduction=\"none\")  # it requires log-softmax as input!!\n",
        "\n",
        "    # This function classifies an image x to a class.\n",
        "    # The output must be a class label (long).\n",
        "    def classify(self, x):\n",
        "        # ------\n",
        "        s = self.classnet(x)\n",
        "        y_pred = torch.argmax(s, dim=1)\n",
        "\n",
        "        return y_pred\n",
        "\n",
        "    # This function is crucial for a module in PyTorch.\n",
        "    # In our framework, this class outputs a value of the loss function.\n",
        "    def forward(self, x, y, reduction=\"avg\"):\n",
        "        # ------\n",
        "        # PLEASE FILL IN\n",
        "        y_pred = self.classnet(x)\n",
        "        loss = self.nll(y_pred, y)\n",
        "        # ------\n",
        "        if reduction == \"sum\":\n",
        "            return loss.sum()\n",
        "        else:\n",
        "            return loss.mean()"
      ]
    },
    {
      "cell_type": "markdown",
      "metadata": {
        "id": "bwaou1x-gmx3"
      },
      "source": [
        "**Question 1 (0-0.5pt):** What is the objective function for a classification task? In other words, what is nn.NLLLoss in the code above? Pelase write it in mathematical terms.\n",
        "\n",
        "**Answer:**\n",
        "1/n*∑ log p(yi | xi)"
      ]
    },
    {
      "cell_type": "markdown",
      "metadata": {
        "id": "kvX88kN-irAD"
      },
      "source": [
        "**Question 2 (0-0.5pt):** In the code above, it is said to use the logarithm of the softmax as the final activation function. Is it correct to use the log-softmax instead of the softmax for making predictions (i.e., picking the most probable label).\n",
        "\n",
        "**Answer:** yes because the logsoftmax gives log likelihoods which are more stable than small numbers from softmax and that works good with the nn.NLLLoss"
      ]
    },
    {
      "cell_type": "markdown",
      "metadata": {
        "id": "HVqRQduw3mgm"
      },
      "source": [
        "### 2.2 Evaluation"
      ]
    },
    {
      "cell_type": "code",
      "execution_count": 20,
      "metadata": {
        "id": "4g9uUFgYP1kT"
      },
      "outputs": [],
      "source": [
        "# PLEASE DO NOT REMOVE\n",
        "def evaluation(test_loader, name=None, model_best=None, epoch=None):\n",
        "    # If available, load the best performing model\n",
        "    if model_best is None:\n",
        "        model_best = torch.load(name + \".model\",weights_only=False)\n",
        "\n",
        "    model_best.eval()  # set the model to the evaluation mode\n",
        "    loss_test = 0.0\n",
        "    loss_error = 0.0\n",
        "    N = 0.0\n",
        "    # start evaluation\n",
        "    for indx_batch, (test_batch, test_targets) in enumerate(test_loader):\n",
        "        # loss (nll)\n",
        "        loss_test_batch = model_best.forward(test_batch, test_targets, reduction=\"sum\")\n",
        "        loss_test = loss_test + loss_test_batch.item()\n",
        "        # classification error\n",
        "        y_pred = model_best.classify(test_batch)\n",
        "        e = 1.0 * (y_pred == test_targets)\n",
        "        loss_error = loss_error + (1.0 - e).sum().item()\n",
        "        # the number of examples\n",
        "        N = N + test_batch.shape[0]\n",
        "    # divide by the number of examples\n",
        "    loss_test = loss_test / N\n",
        "    loss_error = loss_error / N\n",
        "\n",
        "    # Print the performance\n",
        "    if epoch is None:\n",
        "        print(f\"-> FINAL PERFORMANCE: nll={loss_test}, ce={loss_error}\")\n",
        "    else:\n",
        "        if epoch % 10 == 0:\n",
        "            print(f\"Epoch: {epoch}, val nll={loss_test}, val ce={loss_error}\")\n",
        "\n",
        "    return loss_test, loss_error\n",
        "\n",
        "\n",
        "# An auxiliary function for plotting the performance curves\n",
        "def plot_curve(\n",
        "    name,\n",
        "    signal,\n",
        "    file_name=\"curve.pdf\",\n",
        "    xlabel=\"epochs\",\n",
        "    ylabel=\"nll\",\n",
        "    color=\"b-\",\n",
        "    test_eval=None,\n",
        "):\n",
        "    # plot the curve\n",
        "    plt.plot(\n",
        "        np.arange(len(signal)), signal, color, linewidth=\"3\", label=ylabel + \" val\"\n",
        "    )\n",
        "    # if available, add the final (test) performance\n",
        "    if test_eval is not None:\n",
        "        plt.hlines(\n",
        "            test_eval,\n",
        "            xmin=0,\n",
        "            xmax=len(signal),\n",
        "            linestyles=\"dashed\",\n",
        "            label=ylabel + \" test\",\n",
        "        )\n",
        "        plt.text(\n",
        "            len(signal),\n",
        "            test_eval,\n",
        "            \"{:.3f}\".format(test_eval),\n",
        "        )\n",
        "    # set x- and ylabels, add legend, save the figure\n",
        "    plt.xlabel(xlabel), plt.ylabel(ylabel)\n",
        "    plt.legend()\n",
        "    plt.savefig(name + file_name, bbox_inches=\"tight\")\n",
        "    plt.show()"
      ]
    },
    {
      "cell_type": "markdown",
      "metadata": {
        "id": "YzRd-TiY3puF"
      },
      "source": [
        "### 2.3 Training procedure"
      ]
    },
    {
      "cell_type": "code",
      "execution_count": null,
      "metadata": {
        "id": "CMhQWbM1QcBM"
      },
      "outputs": [],
      "source": [
        "# PLEASE DO NOT REMOVE!\n",
        "# The training procedure\n",
        "def training(\n",
        "    name, max_patience, num_epochs, model, optimizer, training_loader, val_loader\n",
        "):\n",
        "    nll_val = []\n",
        "    error_val = []\n",
        "    best_nll = 1000.0\n",
        "    patience = 0\n",
        "\n",
        "    # Main training loop\n",
        "    for e in range(num_epochs):\n",
        "        model.train()  # set the model to the training mode\n",
        "        # load batches\n",
        "        for indx_batch, (batch, targets) in enumerate(training_loader):\n",
        "            # calculate the forward pass (loss function for given images and labels)\n",
        "            loss = model.forward(batch, targets)\n",
        "            # remember we need to zero gradients! Just in case!\n",
        "            optimizer.zero_grad()\n",
        "            # calculate backward pass\n",
        "            loss.backward(retain_graph=True)\n",
        "            # run the optimizer\n",
        "            optimizer.step()\n",
        "\n",
        "        # Validation: Evaluate the model on the validation data\n",
        "        loss_e, error_e = evaluation(val_loader, model_best=model, epoch=e)\n",
        "        nll_val.append(loss_e)  # save for plotting\n",
        "        error_val.append(error_e)  # save for plotting\n",
        "\n",
        "        # Early-stopping: update the best performing model and break training if no\n",
        "        # progress is observed.\n",
        "        if e == 0:\n",
        "            torch.save(model, name + \".model\")\n",
        "            best_nll = loss_e\n",
        "        else:\n",
        "            if loss_e < best_nll:\n",
        "                torch.save(model, name + \".model\")\n",
        "                best_nll = loss_e\n",
        "                patience = 0\n",
        "            else:\n",
        "                patience = patience + 1\n",
        "\n",
        "        if patience > max_patience:\n",
        "            break\n",
        "\n",
        "    # Return nll and classification error.\n",
        "    nll_val = np.asarray(nll_val)\n",
        "    error_val = np.asarray(error_val)\n",
        "\n",
        "    return nll_val, error_val"
      ]
    },
    {
      "cell_type": "markdown",
      "metadata": {
        "id": "gHYGz3G87nuk"
      },
      "source": [
        "### 2.4 Experiments"
      ]
    },
    {
      "cell_type": "markdown",
      "metadata": {
        "id": "op-YbN-JREqw"
      },
      "source": [
        "#### Initialize dataloaders"
      ]
    },
    {
      "cell_type": "code",
      "execution_count": null,
      "metadata": {
        "id": "R_cRaP3gRET1"
      },
      "outputs": [],
      "source": [
        "# PLEASE DO NOT REMOVE\n",
        "# Initialize training, validation and test sets.\n",
        "train_data = Digits(mode=\"train\")\n",
        "val_data = Digits(mode=\"val\")\n",
        "test_data = Digits(mode=\"test\")\n",
        "\n",
        "# Initialize data loaders.\n",
        "training_loader = DataLoader(train_data, batch_size=64, shuffle=True)\n",
        "val_loader = DataLoader(val_data, batch_size=64, shuffle=False)\n",
        "test_loader = DataLoader(test_data, batch_size=64, shuffle=False)"
      ]
    },
    {
      "cell_type": "code",
      "execution_count": null,
      "metadata": {
        "colab": {
          "base_uri": "https://localhost:8080/"
        },
        "id": "2Lqwm5c3oRia",
        "outputId": "dd75efa1-a329-4b88-e70f-025b004e56ef"
      },
      "outputs": [
        {
          "name": "stdout",
          "output_type": "stream",
          "text": [
            "How do we get our data from Digits class? \n",
            "\n",
            "Feature example: [ 0.  0.  0. 12. 13.  5.  0.  0.  0.  0.  0. 11. 16.  9.  0.  0.  0.  0.\n",
            "  3. 15. 16.  6.  0.  0.  0.  7. 15. 16. 16.  2.  0.  0.  0.  0.  1. 16.\n",
            " 16.  3.  0.  0.  0.  0.  1. 16. 16.  6.  0.  0.  0.  0.  1. 16. 16.  6.\n",
            "  0.  0.  0.  0.  0. 11. 16. 10.  0.  0.]\n",
            "Feature example shape: (64,)\n",
            "Label example: 1\n"
          ]
        }
      ],
      "source": [
        "print(\"How do we get our data from Digits class? \\n\")\n",
        "print(f\"Feature example: {train_data[1][0]}\")\n",
        "print(f\"Feature example shape: {train_data[1][0].shape}\")\n",
        "print(f\"Label example: {train_data[1][1]}\")"
      ]
    },
    {
      "cell_type": "code",
      "execution_count": null,
      "metadata": {
        "colab": {
          "base_uri": "https://localhost:8080/"
        },
        "id": "F5OuaSTOhocZ",
        "outputId": "93e87645-aeb9-4121-c486-182c72bd6723"
      },
      "outputs": [
        {
          "name": "stdout",
          "output_type": "stream",
          "text": [
            "How do we get our data from Pytorch DataLoader class? \n",
            "\n",
            "Feature batch shape: torch.Size([64, 64])\n",
            "Labels batch shape: torch.Size([64])\n",
            "\n",
            "\n",
            "What happens if we reshape a feature batch? \n",
            "\n",
            "Feature batch shape after reshape: torch.Size([64, 1, 8, 8])\n",
            "\n",
            "\n",
            "What happens if we flatten a reshaped feature batch? \n",
            "\n",
            "Feature batch shape after flatten: torch.Size([64, 64])\n"
          ]
        }
      ],
      "source": [
        "print(\"How do we get our data from Pytorch DataLoader class? \\n\")\n",
        "train_features, train_labels = next(iter(training_loader))\n",
        "print(f\"Feature batch shape: {train_features.size()}\")\n",
        "print(f\"Labels batch shape: {train_labels.size()}\")\n",
        "\n",
        "print(\"\\n\\nWhat happens if we reshape a feature batch? \\n\")\n",
        "reshape = Reshape(size=(1, 8, 8))\n",
        "train_features_reshaped = reshape(train_features)\n",
        "print(f\"Feature batch shape after reshape: {train_features_reshaped.size()}\")\n",
        "\n",
        "print(\"\\n\\nWhat happens if we flatten a reshaped feature batch? \\n\")\n",
        "flatten = Flatten()\n",
        "train_features_flattened = flatten(train_features_reshaped)\n",
        "print(f\"Feature batch shape after flatten: {train_features_flattened.size()}\")"
      ]
    },
    {
      "cell_type": "markdown",
      "metadata": {
        "id": "s3ni_8Pv3iuG"
      },
      "source": [
        "#### Initialize hyperparameters"
      ]
    },
    {
      "cell_type": "code",
      "execution_count": null,
      "metadata": {
        "id": "dnMs4gcLRLEK"
      },
      "outputs": [],
      "source": [
        "# PLEASE DO NOT REMOVE\n",
        "# Hyperparameters\n",
        "# -> data hyperparams\n",
        "D = 64  # input dimension\n",
        "\n",
        "# -> model hyperparams\n",
        "M = 256  # the number of neurons in scale (s) and translation (t) nets\n",
        "K = 10  # the number of labels\n",
        "num_kernels = 32  # the number of kernels for CNN\n",
        "\n",
        "# -> training hyperparams\n",
        "lr = 1e-3  # learning rate\n",
        "wd = 1e-5  # weight decay\n",
        "num_epochs = 1000  # max. number of epochs\n",
        "max_patience = 20  # an early stopping is used, if training doesn't improve for longer than 20 epochs, it is stopped"
      ]
    },
    {
      "cell_type": "markdown",
      "metadata": {
        "id": "9VDyHP173vLF"
      },
      "source": [
        "#### Running experiments"
      ]
    },
    {
      "cell_type": "markdown",
      "metadata": {
        "id": "f9T9nXcE3xF2"
      },
      "source": [
        "In the code below, you are supposed to implement architectures for MLP and CNN. For properly implementing these architectures, you can get 0.5pt for each of them."
      ]
    },
    {
      "cell_type": "code",
      "execution_count": null,
      "metadata": {
        "colab": {
          "base_uri": "https://localhost:8080/",
          "height": 1000
        },
        "id": "AZH7ahwBRP9B",
        "outputId": "938420a1-3dac-476d-f936-0d2b5258c3ae"
      },
      "outputs": [
        {
          "name": "stdout",
          "output_type": "stream",
          "text": [
            "\n",
            "-> START classifier_mlp\n",
            "Epoch: 0, val nll=0.9001826477050782, val ce=0.13714285714285715\n",
            "Epoch: 10, val nll=0.13262344428471157, val ce=0.02857142857142857\n",
            "Epoch: 20, val nll=0.09977001428604126, val ce=0.025714285714285714\n",
            "Epoch: 30, val nll=0.08784679378782, val ce=0.02\n",
            "Epoch: 40, val nll=0.0829655270917075, val ce=0.02\n",
            "Epoch: 50, val nll=0.07877671105521065, val ce=0.02\n",
            "Epoch: 60, val nll=0.07717183300427029, val ce=0.02\n",
            "Epoch: 70, val nll=0.07542782766478402, val ce=0.02\n",
            "Epoch: 80, val nll=0.07452915515218463, val ce=0.02\n",
            "Epoch: 90, val nll=0.07351407306534903, val ce=0.02\n",
            "Epoch: 100, val nll=0.07257640446935382, val ce=0.02\n",
            "Epoch: 110, val nll=0.07250905632972718, val ce=0.02\n",
            "Epoch: 120, val nll=0.07182224307741437, val ce=0.02\n",
            "Epoch: 130, val nll=0.07184358903339931, val ce=0.02\n",
            "Epoch: 140, val nll=0.07203599120889391, val ce=0.02\n",
            "Epoch: 150, val nll=0.07189520512308394, val ce=0.02\n",
            "Epoch: 160, val nll=0.07177188864776067, val ce=0.022857142857142857\n",
            "-> FINAL PERFORMANCE: nll=0.2682357383787765, ce=0.0738255033557047\n"
          ]
        },
        {
          "data": {
            "image/png": "[encoded data removed]",
            "text/plain": [
              "<Figure size 640x480 with 1 Axes>"
            ]
          },
          "metadata": {},
          "output_type": "display_data"
        },
        {
          "data": {
            "image/png": "[encoded data removed]",
            "text/plain": [
              "<Figure size 640x480 with 1 Axes>"
            ]
          },
          "metadata": {},
          "output_type": "display_data"
        },
        {
          "name": "stdout",
          "output_type": "stream",
          "text": [
            "\n",
            "-> START classifier_cnn\n",
            "Epoch: 0, val nll=1.0075364685058594, val ce=0.13428571428571429\n",
            "Epoch: 10, val nll=0.12821915013449534, val ce=0.03428571428571429\n",
            "Epoch: 20, val nll=0.10774471691676549, val ce=0.03428571428571429\n",
            "Epoch: 30, val nll=0.09950237819126674, val ce=0.03428571428571429\n",
            "Epoch: 40, val nll=0.0992140405518668, val ce=0.03428571428571429\n",
            "Epoch: 50, val nll=0.09663134166172573, val ce=0.03142857142857143\n",
            "Epoch: 60, val nll=0.09625844512666974, val ce=0.03142857142857143\n",
            "Epoch: 70, val nll=0.09585707187652588, val ce=0.03142857142857143\n",
            "Epoch: 80, val nll=0.09598432643072946, val ce=0.03142857142857143\n",
            "Epoch: 90, val nll=0.09530910798481533, val ce=0.03142857142857143\n",
            "Epoch: 100, val nll=0.09497954368591309, val ce=0.02857142857142857\n",
            "Epoch: 110, val nll=0.09583873510360717, val ce=0.03142857142857143\n",
            "Epoch: 120, val nll=0.09515469244548252, val ce=0.03142857142857143\n",
            "-> FINAL PERFORMANCE: nll=0.16588035632566583, ce=0.053691275167785234\n"
          ]
        },
        {
          "data": {
            "image/png": "[encoded data removed]",
            "text/plain": [
              "<Figure size 640x480 with 1 Axes>"
            ]
          },
          "metadata": {},
          "output_type": "display_data"
        },
        {
          "data": {
            "image/png": "[encoded data removed]",
            "text/plain": [
              "<Figure size 640x480 with 1 Axes>"
            ]
          },
          "metadata": {},
          "output_type": "display_data"
        }
      ],
      "source": [
        "# PLEASE DO NOT REMOVE and FILL IN WHEN NECESSARY!\n",
        "# We will run two models: MLP and CNN\n",
        "names = [\"classifier_mlp\", \"classifier_cnn\"]\n",
        "\n",
        "# loop over models\n",
        "for name in names:\n",
        "    print(\"\\n-> START {}\".format(name))\n",
        "    # Create a folder (REMEMBER: You must mount your drive if you use Colab!)\n",
        "    if name == \"classifier_mlp\":\n",
        "        name = name + \"_M_\" + str(M)\n",
        "    elif name == \"classifier_cnn\":\n",
        "        name = name + \"_M_\" + str(M) + \"_kernels_\" + str(num_kernels)\n",
        "\n",
        "    # Create a folder if necessary\n",
        "    result_dir = os.path.join(results_dir, \"results\", name + \"/\")\n",
        "\n",
        "    # =========\n",
        "    # MAKE SURE THAT \"result_dir\" IS A PATH TO A LOCAL FOLDER OR A GOOGLE COLAB FOLDER (DEFINED IN CELL 3)\n",
        "    result_dir = \"./\"  # (current folder)\n",
        "    # =========\n",
        "    if not (os.path.exists(result_dir)):\n",
        "        os.mkdir(result_dir)\n",
        "\n",
        "    # MLP\n",
        "    if name[0:14] == \"classifier_mlp\":\n",
        "        # =========\n",
        "        # GRADING:\n",
        "        # 0\n",
        "        # 0.5pt if properly implemented\n",
        "        # =========\n",
        "        # ------\n",
        "        # PLEASE FILL IN:\n",
        "        classnet = nn.Sequential(\n",
        "            nn.Flatten(),\n",
        "            nn.Linear(D, M),\n",
        "            nn.Tanh(),\n",
        "            nn.Linear(M,M),\n",
        "            nn.Tanh(),\n",
        "            nn.Linear(M,K),\n",
        "            nn.LogSoftmax(1)\n",
        "        )\n",
        "        #\n",
        "        # You are asked here to propose your own architecture\n",
        "        # NOTE: Please remember that the output must be LogSoftmax!\n",
        "        # ------\n",
        "        pass\n",
        "\n",
        "    # CNN\n",
        "    elif name[0:14] == \"classifier_cnn\":\n",
        "        # =========\n",
        "        # GRADING:\n",
        "        # 0\n",
        "        # 0.5pt if properly implemented\n",
        "        # =========\n",
        "        # ------\n",
        "        # PLEASE FILL IN:\n",
        "        classnet = nn.Sequential(\n",
        "            Reshape((1,8,8)),\n",
        "            nn.Conv2d(1, num_kernels, 3, padding=1),\n",
        "            nn.Tanh(),\n",
        "            nn.MaxPool2d((2,2)),\n",
        "            Flatten(),\n",
        "            nn.Linear(num_kernels * 4*4, M),\n",
        "            nn.Tanh(),\n",
        "            nn.Linear(M,M),\n",
        "            nn.Tanh(),\n",
        "            nn.Linear(M,K),\n",
        "            nn.LogSoftmax(1),\n",
        "        )\n",
        "        #\n",
        "        # You are asked here to propose your own architecture\n",
        "        # NOTE: Plese note that the images are represented as vectors, thus, you must\n",
        "        # use Reshape(size) as the first layer, and Flatten() after all convolutional\n",
        "        # layers and before linear layers.\n",
        "        # NOTE: Please remember that the output must be LogSoftmax!\n",
        "        # ------\n",
        "        pass\n",
        "\n",
        "    # Init ClassifierNN\n",
        "    model = ClassifierNeuralNet(classnet)\n",
        "\n",
        "    # Init OPTIMIZER (here we use ADAMAX)\n",
        "    optimizer = torch.optim.Adamax(\n",
        "        [p for p in model.parameters() if p.requires_grad == True],\n",
        "        lr=lr,\n",
        "        weight_decay=wd,\n",
        "    )\n",
        "\n",
        "    # Training procedure\n",
        "    nll_val, error_val = training(\n",
        "        name=result_dir + name,\n",
        "        max_patience=max_patience,\n",
        "        num_epochs=num_epochs,\n",
        "        model=model,\n",
        "        optimizer=optimizer,\n",
        "        training_loader=training_loader,\n",
        "        val_loader=val_loader,\n",
        "    )\n",
        "\n",
        "    # The final evaluation (on the test set)\n",
        "    test_loss, test_error = evaluation(name=result_dir + name, test_loader=test_loader)\n",
        "    # write the results to a file\n",
        "    f = open(result_dir + name + \"_test_loss.txt\", \"w\")\n",
        "    f.write(\"NLL: \" + str(test_loss) + \"\\nCE: \" + str(test_error))\n",
        "    f.close()\n",
        "    # create curves\n",
        "    plot_curve(\n",
        "        result_dir + name,\n",
        "        nll_val,\n",
        "        file_name=\"_nll_val_curve.pdf\",\n",
        "        ylabel=\"nll\",\n",
        "        test_eval=test_loss,\n",
        "    )\n",
        "    plot_curve(\n",
        "        result_dir + name,\n",
        "        error_val,\n",
        "        file_name=\"_ca_val_curve.pdf\",\n",
        "        ylabel=\"ce\",\n",
        "        color=\"r-\",\n",
        "        test_eval=test_error,\n",
        "    )"
      ]
    },
    {
      "cell_type": "markdown",
      "metadata": {
        "id": "oFX-DzH9ftPg"
      },
      "source": [
        "## 2.5 Analysis"
      ]
    },
    {
      "cell_type": "markdown",
      "metadata": {
        "id": "2-TFtGdZfz3a"
      },
      "source": [
        "**Question 3 (0-0.5pt)**: Please compare the convergence of MLP and CNN in terms of the loss function and the classification error.\n",
        "\n",
        "**Answer**: The convergence of both loss fucntion are pretty much the same in shape except that the test value for the loss of the mlp is worse than that of the CNN and for the CE the convergence of the mlp is more stable but that if the CNN is faster but a bit more unstable. The CNN model also has less overfitting than the mlp because the test and val lines are much closer together"
      ]
    },
    {
      "cell_type": "markdown",
      "metadata": {
        "id": "0f2P57ZmlwXz"
      },
      "source": [
        "**Question 4 (0-0.5pt)**: In general, for a properly picked architectures, a CNN should work better than an MLP. Did you notice that? Why (in general) CNNs are better suited to images than MLPs?\n",
        "\n",
        "**Answer**: Because images can have thousands of pixels and mlps need to take into account all of them to get a good estimate but convolutions can generalise a bit which helps it use less computational power and it can find some hidden concepts in images which makes it perform better"
      ]
    },
    {
      "cell_type": "markdown",
      "metadata": {
        "id": "1QJ_mRdT7Ais"
      },
      "source": [
        "## 3 Application to Street House View Numbers (SVHN) (6pt)"
      ]
    },
    {
      "cell_type": "markdown",
      "metadata": {
        "id": "YHhUUaYL7GEx"
      },
      "source": [
        "Please repeat (some) of the code in the previous section and apply a bigger convolutional neural network (CNN) to the following dataset:\n",
        "\n",
        "http://ufldl.stanford.edu/housenumbers/\n",
        "\n",
        "Please follow the following steps:\n",
        "1. (1pt) Create appropriate Dataset class. Please remember to use the original training data and test data, and also to create a validation set from the traning data (at least 10% of the training examples). **Do not use extra examples!**\n",
        "2. (1pt) Implement an architecture that will give at most 0.1 classification error. For instance, see this paper as a reference: https://arxiv.org/pdf/1204.3968.pdf#:~:text=The%20SVHN%20classification%20dataset%20%5B8,set%20of%20more%20difficult%20samples\n",
        "3. (1pt) Think of an extra component that could improve the performance (e.g., a regularization, specific activation functions).\n",
        "4. (1pt) Provide a good explanation of the applied architecture and a description of all components.\n",
        "5. (2pt) Analyze the results.\n",
        "\n",
        "**Please be very precise, comment your code and provide a comprehensive and clear analysis.**"
      ]
    },
    {
      "cell_type": "code",
      "execution_count": 17,
      "metadata": {
        "id": "WB905AcBKpgk"
      },
      "outputs": [],
      "source": [
        "dir_train = \"/Users/m.manso/Downloads\"\n",
        "name = \"ConvNeuralNetwork\"\n",
        "result_dir = \"/content/gdrive/My Drive/Colab Notebooks/TEACHING/\"\n",
        "result_dir = os.path.join(results_dir, \"results\", name + \"/\")\n",
        "\n",
        "# =========\n",
        "# MAKE SURE THAT \"result_dir\" IS A PATH TO A LOCAL FOLDER OR A GOOGLE COLAB FOLDER (DEFINED IN CELL 3)\n",
        "result_dir = \"./\"  # (current folder)\n",
        "# =========\n",
        "if not (os.path.exists(result_dir)):\n",
        "    os.mkdir(result_dir)"
      ]
    },
    {
      "cell_type": "code",
      "execution_count": 8,
      "metadata": {
        "id": "ICApWFLVEu8c"
      },
      "outputs": [],
      "source": [
        "import torch\n",
        "from torchvision import datasets, transforms\n",
        "from torch.utils.data import random_split, DataLoader\n",
        "import torch.optim as optim"
      ]
    },
    {
      "cell_type": "code",
      "execution_count": 9,
      "metadata": {
        "id": "xZc0SeCrBgM2"
      },
      "outputs": [],
      "source": [
        "\n",
        "class SVHN(Dataset):\n",
        "    def __init__(self, dir_train, mode=\"train\", transforms=None):\n",
        "        \"\"\"\n",
        "        Here I create the svhn class that when called will download and split the data into train, val and test sets\n",
        "        \"\"\"\n",
        "        self.mode = mode\n",
        "        self.transforms = transforms\n",
        "\n",
        "        if mode in [\"train\", \"val\"]:\n",
        "          self.full_data = datasets.SVHN(root=dir_train, split=\"train\", download=True)\n",
        "\n",
        "          split = int(len(self.full_data) * 0.9)\n",
        "\n",
        "          train_data, val_data = random_split(self.full_data, [split, len(self.full_data)- split])\n",
        "          if mode == \"train\":\n",
        "            self.data = train_data\n",
        "\n",
        "          elif mode == \"val\":\n",
        "            self.data = val_data\n",
        "\n",
        "        elif mode == \"test\":\n",
        "          self.data = datasets.SVHN(root=dir_train, split=\"test\", download=True)\n",
        "\n",
        "    def __len__(self):\n",
        "        return len(self.data)\n",
        "\n",
        "    def __getitem__(self, idx):\n",
        "        \"\"\"\n",
        "        I return the items based on the index and if i need to transform the data\n",
        "        \"\"\"\n",
        "        img, target = self.data[idx]\n",
        "        if self.transforms != None:\n",
        "          img = self.transforms(img)\n",
        "        return (img, target)\n"
      ]
    },
    {
      "cell_type": "code",
      "execution_count": 10,
      "metadata": {
        "colab": {
          "base_uri": "https://localhost:8080/",
          "height": 0
        },
        "id": "KYK_PpTDNvkC",
        "outputId": "cf48b0a2-58ac-4f95-ee14-ebbd4a1cdbee"
      },
      "outputs": [
        {
          "output_type": "stream",
          "name": "stderr",
          "text": [
            "100%|██████████| 182M/182M [00:34<00:00, 5.33MB/s]\n",
            "100%|██████████| 64.3M/64.3M [00:12<00:00, 5.00MB/s]\n"
          ]
        },
        {
          "output_type": "stream",
          "name": "stdout",
          "text": [
            "torch.Size([3, 32, 32])\n"
          ]
        }
      ],
      "source": [
        "transform = transforms.Compose([transforms.ToTensor()]) #I initialize the transfromation that needs to occur so from PIL or something else to tensor\n",
        "\n",
        "# I capture the data and separate variables\n",
        "train_data = SVHN(dir_train, \"train\", transforms=transform)\n",
        "val_data = SVHN(dir_train, \"val\", transforms=transform)\n",
        "test_data = SVHN(dir_train, \"test\", transforms=transform)\n",
        "\n",
        "#I put it into a dataloader for faster access and batches\n",
        "train_loader = DataLoader(train_data, batch_size=256, shuffle=True)\n",
        "val_loader = DataLoader(val_data, batch_size=256, shuffle=True)\n",
        "test_loader = DataLoader(test_data, batch_size=256, shuffle=True)\n",
        "\n",
        "print(train_data[1][0].shape)"
      ]
    },
    {
      "cell_type": "code",
      "execution_count": 26,
      "metadata": {
        "id": "-QKoR0b6ZsuP"
      },
      "outputs": [],
      "source": [
        "\n",
        "M = 256  # the number of neurons in scale (s) and translation (t) nets\n",
        "K = 10  # the number of labels\n",
        "num_kernels = 64  # the number of kernels for CNN\n",
        "\n",
        "# -> training hyperparams\n",
        "lr = 1e-3  # learning rate\n",
        "wd = 1e-5  # weight decay\n",
        "num_epochs = 1000  # max. number of epochs\n",
        "max_patience = 20  # an early stopping is used, if training doesn't improve for longer than 20 epochs, it is stopped"
      ]
    },
    {
      "cell_type": "code",
      "execution_count": 12,
      "metadata": {
        "id": "qRrgbUyARncW"
      },
      "outputs": [],
      "source": [
        "class ConvNeuralNetwork(nn.Module):\n",
        "  def __init__(self):\n",
        "    \"\"\"\n",
        "    The layers I went for is two convolutions to maxpooling to reduce it and get more features and that another time to further increase the features and decrease the picture and then a last convolution to maxpooling to further reduce and increase it I use batch normalisation to make the convolutions converge faster\n",
        "    Then I flatten everything and use 1 input layer 1 hidden layer and a output layer with dropout to stop overfitting\n",
        "    \"\"\"\n",
        "    super().__init__()\n",
        "    self.nll = nn.NLLLoss(reduction=\"none\")\n",
        "    self.stack = nn.Sequential(\n",
        "            nn.Conv2d(3, num_kernels, 3, padding=1), #channel = 64\n",
        "            nn.BatchNorm2d(num_kernels),\n",
        "            nn.ReLU(),\n",
        "            nn.Conv2d(num_kernels, num_kernels, 3, padding=1), #channel = 64\n",
        "            nn.BatchNorm2d(num_kernels),\n",
        "            nn.ReLU(),\n",
        "            nn.MaxPool2d(2), # 16 * 16\n",
        "\n",
        "            nn.Conv2d(num_kernels, 2 * num_kernels, 3, padding=1), #channel = 128\n",
        "            nn.BatchNorm2d(2 * num_kernels),\n",
        "            nn.ReLU(),\n",
        "            nn.Conv2d(2 * num_kernels, 2 * num_kernels, 3, padding=1), #channel = 128\n",
        "            nn.BatchNorm2d(2 * num_kernels),\n",
        "            nn.ReLU(),\n",
        "            nn.MaxPool2d(2), # 8 * 8\n",
        "\n",
        "            nn.Conv2d(2 * num_kernels, 4 * num_kernels, 3, padding=1), #channel = 256\n",
        "            nn.BatchNorm2d(4 * num_kernels),\n",
        "            nn.ReLU(),\n",
        "            nn.MaxPool2d(2), # 4 * 4\n",
        "\n",
        "\n",
        "            Flatten(),\n",
        "            nn.Linear((4 * num_kernels) * 4*4, M),\n",
        "            nn.ReLU(),\n",
        "            nn.Dropout(0.5),\n",
        "            nn.Linear(M,M),\n",
        "            nn.ReLU(),\n",
        "            nn.Dropout(0.5),\n",
        "            nn.Linear(M,K),\n",
        "            nn.LogSoftmax(1),\n",
        "        )\n",
        "  def classify(self, x):\n",
        "      s = self.stack(x)\n",
        "      y_pred = torch.argmax(s, dim=1)\n",
        "\n",
        "      return y_pred\n",
        "\n",
        "  def forward(self, x, y, reduction=\"avg\"):\n",
        "      y_pred = self.stack(x)\n",
        "      loss = self.nll(y_pred, y)\n",
        "      if reduction == \"sum\":\n",
        "          return loss.sum()\n",
        "      else:\n",
        "          return loss.mean()\n",
        "\n"
      ]
    },
    {
      "cell_type": "code",
      "source": [
        "# PLEASE DO NOT REMOVE!\n",
        "# The training procedure\n",
        "def training(\n",
        "    name, max_patience, num_epochs, model, optimizer, training_loader, val_loader\n",
        "):\n",
        "    nll_val = []\n",
        "    error_val = []\n",
        "    best_nll = 1000.0\n",
        "    patience = 0\n",
        "\n",
        "    # Main training loop\n",
        "    for e in range(num_epochs):\n",
        "        model.train()  # set the model to the training mode\n",
        "        # load batches\n",
        "        for indx_batch, (batch, targets) in enumerate(training_loader):\n",
        "            batch = batch.to(device)#for gpu computations\n",
        "            targets = targets.to(device)#for gpu computations\n",
        "            # calculate the forward pass (loss function for given images and labels)\n",
        "            loss = model.forward(batch, targets)\n",
        "            # remember we need to zero gradients! Just in case!\n",
        "            optimizer.zero_grad()\n",
        "            # calculate backward pass\n",
        "            loss.backward(retain_graph=True)\n",
        "            # run the optimizer\n",
        "            optimizer.step()\n",
        "\n",
        "        # Validation: Evaluate the model on the validation data\n",
        "        loss_e, error_e = evaluation(val_loader, model_best=model, epoch=e)\n",
        "        nll_val.append(loss_e)  # save for plotting\n",
        "        error_val.append(error_e)  # save for plotting\n",
        "\n",
        "        # Early-stopping: update the best performing model and break training if no\n",
        "        # progress is observed.\n",
        "        if e == 0:\n",
        "            torch.save(model, name + \".model\")\n",
        "            best_nll = loss_e\n",
        "        else:\n",
        "            if loss_e < best_nll:\n",
        "                torch.save(model, name + \".model\")\n",
        "                best_nll = loss_e\n",
        "                patience = 0\n",
        "            else:\n",
        "                patience = patience + 1\n",
        "\n",
        "        if patience > max_patience:\n",
        "            break\n",
        "\n",
        "    # Return nll and classification error.\n",
        "    nll_val = np.asarray(nll_val)\n",
        "    error_val = np.asarray(error_val)\n",
        "\n",
        "    return nll_val, error_val"
      ],
      "metadata": {
        "id": "cq1xlZl-Sjc0"
      },
      "execution_count": 22,
      "outputs": []
    },
    {
      "cell_type": "code",
      "source": [
        "# PLEASE DO NOT REMOVE\n",
        "def evaluation(test_loader, name=None, model_best=None, epoch=None):\n",
        "    # If available, load the best performing model\n",
        "    if model_best is None:\n",
        "        model_best = torch.load(name + \".model\",weights_only=False)\n",
        "\n",
        "    model_best.eval()  # set the model to the evaluation mode\n",
        "    loss_test = 0.0\n",
        "    loss_error = 0.0\n",
        "    N = 0.0\n",
        "    # start evaluation\n",
        "    for indx_batch, (test_batch, test_targets) in enumerate(test_loader):\n",
        "        test_batch = test_batch.to(device)#for gpu computations\n",
        "        test_targets = test_targets.to(device)#for gpu computations\n",
        "        # loss (nll)\n",
        "        loss_test_batch = model_best.forward(test_batch, test_targets, reduction=\"sum\")\n",
        "        loss_test = loss_test + loss_test_batch.item()\n",
        "        # classification error\n",
        "        y_pred = model_best.classify(test_batch)\n",
        "        e = 1.0 * (y_pred == test_targets)\n",
        "        loss_error = loss_error + (1.0 - e).sum().item()\n",
        "        # the number of examples\n",
        "        N = N + test_batch.shape[0]\n",
        "    # divide by the number of examples\n",
        "    loss_test = loss_test / N\n",
        "    loss_error = loss_error / N\n",
        "\n",
        "    # Print the performance\n",
        "    if epoch is None:\n",
        "        print(f\"-> FINAL PERFORMANCE: nll={loss_test}, ce={loss_error}\")\n",
        "    else:\n",
        "        if epoch % 10 == 0:\n",
        "            print(f\"Epoch: {epoch}, val nll={loss_test}, val ce={loss_error}\")\n",
        "\n",
        "    return loss_test, loss_error"
      ],
      "metadata": {
        "id": "Q3T35QznSv9V"
      },
      "execution_count": 24,
      "outputs": []
    },
    {
      "cell_type": "code",
      "execution_count": 27,
      "metadata": {
        "colab": {
          "base_uri": "https://localhost:8080/",
          "height": 1093
        },
        "id": "Ewr_84vhZ0eu",
        "outputId": "497587d4-5f95-49f3-aaf0-f21227f58367"
      },
      "outputs": [
        {
          "output_type": "stream",
          "name": "stdout",
          "text": [
            "Epoch: 0, val nll=1.4517528857815112, val ce=0.4795249795249795\n",
            "Epoch: 10, val nll=0.4468492064813171, val ce=0.0879060879060879\n",
            "Epoch: 20, val nll=0.35242028721948154, val ce=0.08613158613158613\n",
            "Epoch: 30, val nll=0.09285527710181717, val ce=0.021703521703521703\n",
            "Epoch: 40, val nll=0.07066349972801197, val ce=0.0171990171990172\n",
            "Epoch: 50, val nll=0.050260943693441675, val ce=0.011056511056511056\n",
            "Epoch: 60, val nll=0.06068540361452845, val ce=0.016653016653016654\n",
            "Epoch: 70, val nll=0.06188176379905449, val ce=0.014332514332514333\n",
            "Epoch: 80, val nll=0.05687499521470545, val ce=0.010510510510510511\n",
            "Epoch: 90, val nll=0.057646444577387115, val ce=0.014332514332514333\n",
            "Epoch: 100, val nll=0.05830435483728378, val ce=0.009418509418509418\n",
            "-> FINAL PERFORMANCE: nll=0.3942313859560919, ce=0.06038721573448064\n"
          ]
        },
        {
          "output_type": "display_data",
          "data": {
            "text/plain": [
              "<Figure size 640x480 with 1 Axes>"
            ],
            "image/png": "[encoded data removed]"
          },
          "metadata": {}
        },
        {
          "output_type": "display_data",
          "data": {
            "text/plain": [
              "<Figure size 640x480 with 1 Axes>"
            ],
            "image/png": "[encoded data removed]"
          },
          "metadata": {}
        }
      ],
      "source": [
        "#I initialize the model\n",
        "model = ConvNeuralNetwork().to(device)#for gpu computations\n",
        "\n",
        "#and use a simple adam optimizer\n",
        "optimizer = optim.Adam(model.parameters(), lr=lr, weight_decay=wd)\n",
        "\n",
        "#then I train the model\n",
        "nll_val, error_val = training(\n",
        "        name=result_dir + name,\n",
        "        max_patience=max_patience,\n",
        "        num_epochs=num_epochs,\n",
        "        model=model,\n",
        "        optimizer=optimizer,\n",
        "        training_loader=train_loader,\n",
        "        val_loader=val_loader,\n",
        "    )\n",
        "\n",
        "\n",
        "#I evaluate the performance on the test set\n",
        "test_loss, test_error = evaluation(name=result_dir + name, test_loader=test_loader)\n",
        "\n",
        "f = open(result_dir + name + \"_test_loss.txt\", \"w\")\n",
        "f.write(\"NLL: \" + str(test_loss) + \"\\nCE: \" + str(test_error))\n",
        "f.close()\n",
        "\n",
        "plot_curve(\n",
        "    result_dir + name,\n",
        "    nll_val,\n",
        "    file_name=\"_nll_val_curve.pdf\",\n",
        "    ylabel=\"nll\",\n",
        "    test_eval=test_loss,\n",
        ")\n",
        "plot_curve(\n",
        "    result_dir + name,\n",
        "    error_val,\n",
        "    file_name=\"_ca_val_curve.pdf\",\n",
        "    ylabel=\"ce\",\n",
        "    color=\"r-\",\n",
        "    test_eval=test_error,\n",
        ")"
      ]
    },
    {
      "cell_type": "markdown",
      "source": [
        "The entropy loss of my model is still quite high at 0.394 which is decent but that means my model is a low confidence value than my classification implies or something to do with my softmax value. My classification error is 0.060 which means there is a little bit of overfitting but not much because the test line and val line are pretty close. With a classification error of 0.060 that means my model generalizes well."
      ],
      "metadata": {
        "id": "SPqCHYpIe-QS"
      }
    }
  ],
  "metadata": {
    "accelerator": "GPU",
    "colab": {
      "gpuType": "T4",
      "provenance": []
    },
    "kernelspec": {
      "display_name": "Python 3",
      "name": "python3"
    },
    "language_info": {
      "codemirror_mode": {
        "name": "ipython",
        "version": 3
      },
      "file_extension": ".py",
      "mimetype": "text/x-python",
      "name": "python",
      "nbconvert_exporter": "python",
      "pygments_lexer": "ipython3",
      "version": "3.10.10"
    }
  },
  "nbformat": 4,
  "nbformat_minor": 0
}